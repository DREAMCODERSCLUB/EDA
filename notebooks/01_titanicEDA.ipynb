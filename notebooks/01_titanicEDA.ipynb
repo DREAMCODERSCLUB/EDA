{
 "cells": [
  {
   "cell_type": "code",
   "execution_count": 1,
   "id": "1d20d57e",
   "metadata": {},
   "outputs": [],
   "source": [
    "# 🛳️ Exploratory Data Analysis on Titanic Dataset\n",
    "\n",
    "# 📦 Step 1: Import Libraries\n",
    "import pandas as pd\n",
    "import numpy as np\n",
    "import seaborn as sns\n",
    "import matplotlib.pyplot as plt\n",
    "\n",
    "# To show plots inline\n",
    "%matplotlib inline"
   ]
  },
  {
   "cell_type": "code",
   "execution_count": 4,
   "id": "c89690df",
   "metadata": {},
   "outputs": [
    {
     "name": "stdout",
     "output_type": "stream",
     "text": [
      "Dataset loaded successfully!\n"
     ]
    },
    {
     "data": {
      "text/html": [
       "<div>\n",
       "<style scoped>\n",
       "    .dataframe tbody tr th:only-of-type {\n",
       "        vertical-align: middle;\n",
       "    }\n",
       "\n",
       "    .dataframe tbody tr th {\n",
       "        vertical-align: top;\n",
       "    }\n",
       "\n",
       "    .dataframe thead th {\n",
       "        text-align: right;\n",
       "    }\n",
       "</style>\n",
       "<table border=\"1\" class=\"dataframe\">\n",
       "  <thead>\n",
       "    <tr style=\"text-align: right;\">\n",
       "      <th></th>\n",
       "      <th>PassengerId</th>\n",
       "      <th>Survived</th>\n",
       "      <th>Pclass</th>\n",
       "      <th>Name</th>\n",
       "      <th>Sex</th>\n",
       "      <th>Age</th>\n",
       "      <th>SibSp</th>\n",
       "      <th>Parch</th>\n",
       "      <th>Ticket</th>\n",
       "      <th>Fare</th>\n",
       "      <th>Cabin</th>\n",
       "      <th>Embarked</th>\n",
       "    </tr>\n",
       "  </thead>\n",
       "  <tbody>\n",
       "    <tr>\n",
       "      <th>0</th>\n",
       "      <td>892</td>\n",
       "      <td>0</td>\n",
       "      <td>3</td>\n",
       "      <td>Kelly, Mr. James</td>\n",
       "      <td>male</td>\n",
       "      <td>34.5</td>\n",
       "      <td>0</td>\n",
       "      <td>0</td>\n",
       "      <td>330911</td>\n",
       "      <td>7.8292</td>\n",
       "      <td>NaN</td>\n",
       "      <td>Q</td>\n",
       "    </tr>\n",
       "    <tr>\n",
       "      <th>1</th>\n",
       "      <td>893</td>\n",
       "      <td>1</td>\n",
       "      <td>3</td>\n",
       "      <td>Wilkes, Mrs. James (Ellen Needs)</td>\n",
       "      <td>female</td>\n",
       "      <td>47.0</td>\n",
       "      <td>1</td>\n",
       "      <td>0</td>\n",
       "      <td>363272</td>\n",
       "      <td>7.0000</td>\n",
       "      <td>NaN</td>\n",
       "      <td>S</td>\n",
       "    </tr>\n",
       "    <tr>\n",
       "      <th>2</th>\n",
       "      <td>894</td>\n",
       "      <td>0</td>\n",
       "      <td>2</td>\n",
       "      <td>Myles, Mr. Thomas Francis</td>\n",
       "      <td>male</td>\n",
       "      <td>62.0</td>\n",
       "      <td>0</td>\n",
       "      <td>0</td>\n",
       "      <td>240276</td>\n",
       "      <td>9.6875</td>\n",
       "      <td>NaN</td>\n",
       "      <td>Q</td>\n",
       "    </tr>\n",
       "    <tr>\n",
       "      <th>3</th>\n",
       "      <td>895</td>\n",
       "      <td>0</td>\n",
       "      <td>3</td>\n",
       "      <td>Wirz, Mr. Albert</td>\n",
       "      <td>male</td>\n",
       "      <td>27.0</td>\n",
       "      <td>0</td>\n",
       "      <td>0</td>\n",
       "      <td>315154</td>\n",
       "      <td>8.6625</td>\n",
       "      <td>NaN</td>\n",
       "      <td>S</td>\n",
       "    </tr>\n",
       "    <tr>\n",
       "      <th>4</th>\n",
       "      <td>896</td>\n",
       "      <td>1</td>\n",
       "      <td>3</td>\n",
       "      <td>Hirvonen, Mrs. Alexander (Helga E Lindqvist)</td>\n",
       "      <td>female</td>\n",
       "      <td>22.0</td>\n",
       "      <td>1</td>\n",
       "      <td>1</td>\n",
       "      <td>3101298</td>\n",
       "      <td>12.2875</td>\n",
       "      <td>NaN</td>\n",
       "      <td>S</td>\n",
       "    </tr>\n",
       "  </tbody>\n",
       "</table>\n",
       "</div>"
      ],
      "text/plain": [
       "   PassengerId  Survived  Pclass  \\\n",
       "0          892         0       3   \n",
       "1          893         1       3   \n",
       "2          894         0       2   \n",
       "3          895         0       3   \n",
       "4          896         1       3   \n",
       "\n",
       "                                           Name     Sex   Age  SibSp  Parch  \\\n",
       "0                              Kelly, Mr. James    male  34.5      0      0   \n",
       "1              Wilkes, Mrs. James (Ellen Needs)  female  47.0      1      0   \n",
       "2                     Myles, Mr. Thomas Francis    male  62.0      0      0   \n",
       "3                              Wirz, Mr. Albert    male  27.0      0      0   \n",
       "4  Hirvonen, Mrs. Alexander (Helga E Lindqvist)  female  22.0      1      1   \n",
       "\n",
       "    Ticket     Fare Cabin Embarked  \n",
       "0   330911   7.8292   NaN        Q  \n",
       "1   363272   7.0000   NaN        S  \n",
       "2   240276   9.6875   NaN        Q  \n",
       "3   315154   8.6625   NaN        S  \n",
       "4  3101298  12.2875   NaN        S  "
      ]
     },
     "execution_count": 4,
     "metadata": {},
     "output_type": "execute_result"
    }
   ],
   "source": [
    "# 📥 Step 2: Load the Dataset\n",
    "df = pd.read_csv('C:\\TII\\Portfolio\\EDA\\datasets\\\\01_titanic.csv')\n",
    "print(\"Dataset loaded successfully!\")\n",
    "df.head()"
   ]
  },
  {
   "cell_type": "code",
   "execution_count": null,
   "id": "342da34d",
   "metadata": {},
   "outputs": [],
   "source": [
    "#Looking Up Each Feature for basic understanding\n",
    "\n",
    "#Before diving into the analysis, I always make it a point to understand what each column in the dataset actually means. It helps ensure I’m not just running code, but actually making sense of the data and drawing the right conclusions.\n",
    "\n",
    "#Titanic Dataset Features:\n",
    "#passengerId : ID number of each passenger\n",
    "#survived: Whether the passenger survived (0 = No, 1 = Yes).\n",
    "#pclass: Ticket class (1 = 1st, 2 = 2nd, 3 = 3rd).\n",
    "#Name: Name of the passenger\n",
    "#sex: Gender of the passenger.\n",
    "#age: Age of the passenger in years\n",
    "#sibsp: Number of siblings/spouses aboard the Titanic.\n",
    "#parch: Number of parents/children aboard the Titanic.\n",
    "#fare: Passenger fare.\n",
    "#embarked: Port of embarkation (C = Cherbourg; Q = Queenstown; S = Southampton).\n",
    "#Cabin : Many missing values, need to understand better. \n",
    "\n",
    "#Let's see more values of cabin column"
   ]
  },
  {
   "cell_type": "code",
   "execution_count": 19,
   "id": "db79cc5e",
   "metadata": {},
   "outputs": [
    {
     "name": "stdout",
     "output_type": "stream",
     "text": [
      "\n",
      "Shape of data: (418, 12)\n",
      "\n",
      "Columns: Index(['PassengerId', 'Survived', 'Pclass', 'Name', 'Sex', 'Age', 'SibSp',\n",
      "       'Parch', 'Ticket', 'Fare', 'Cabin', 'Embarked'],\n",
      "      dtype='object')\n",
      "\n",
      "Data types:\n",
      " PassengerId      int64\n",
      "Survived         int64\n",
      "Pclass           int64\n",
      "Name            object\n",
      "Sex             object\n",
      "Age            float64\n",
      "SibSp            int64\n",
      "Parch            int64\n",
      "Ticket          object\n",
      "Fare           float64\n",
      "Cabin           object\n",
      "Embarked        object\n",
      "dtype: object\n",
      "\n",
      "Missing values:\n",
      " PassengerId      0\n",
      "Survived         0\n",
      "Pclass           0\n",
      "Name             0\n",
      "Sex              0\n",
      "Age             86\n",
      "SibSp            0\n",
      "Parch            0\n",
      "Ticket           0\n",
      "Fare             1\n",
      "Cabin          327\n",
      "Embarked         0\n",
      "dtype: int64\n"
     ]
    }
   ],
   "source": [
    "# 📊 Step 3: Basic Information\n",
    "print(\"\\nShape of data:\", df.shape)\n",
    "print(\"\\nColumns:\", df.columns)\n",
    "print(\"\\nData types:\\n\", df.dtypes)\n",
    "print(\"\\nMissing values:\\n\", df.isnull().sum())"
   ]
  },
  {
   "cell_type": "code",
   "execution_count": 22,
   "id": "e553695c",
   "metadata": {},
   "outputs": [
    {
     "name": "stdout",
     "output_type": "stream",
     "text": [
      "[nan 'B45' 'E31' 'B57 B59 B63 B66' 'B36' 'A21' 'C78' 'D34' 'D19' 'A9'\n",
      " 'D15' 'C31' 'C23 C25 C27' 'F G63' 'B61' 'C53' 'D43' 'C130' 'C132' 'C101'\n",
      " 'C55 C57' 'B71' 'C46' 'C116' 'F' 'A29' 'G6' 'C6' 'C28' 'C51' 'E46' 'C54'\n",
      " 'C97' 'D22' 'B10' 'F4' 'E45' 'E52' 'D30' 'B58 B60' 'E34' 'C62 C64' 'A11'\n",
      " 'B11' 'C80' 'F33' 'C85' 'D37' 'C86' 'D21' 'C89' 'F E46' 'A34' 'D' 'B26'\n",
      " 'C22 C26' 'B69' 'C32' 'B78' 'F E57' 'F2' 'A18' 'C106' 'B51 B53 B55'\n",
      " 'D10 D12' 'E60' 'E50' 'E39 E41' 'B52 B54 B56' 'C39' 'B24' 'D28' 'B41'\n",
      " 'C7' 'D40' 'D38' 'C105']\n",
      "Cabin\n",
      "B57 B59 B63 B66    3\n",
      "B45                2\n",
      "C89                2\n",
      "C55 C57            2\n",
      "A34                2\n",
      "                  ..\n",
      "E52                1\n",
      "D30                1\n",
      "E31                1\n",
      "C62 C64            1\n",
      "C105               1\n",
      "Name: count, Length: 76, dtype: int64\n"
     ]
    }
   ],
   "source": [
    "print(df['Cabin'].unique())\n",
    "print(df['Cabin'].value_counts())"
   ]
  },
  {
   "cell_type": "code",
   "execution_count": 23,
   "id": "614df92b",
   "metadata": {},
   "outputs": [
    {
     "name": "stdout",
     "output_type": "stream",
     "text": [
      "[3 2 1]\n",
      "Embarked\n",
      "S    270\n",
      "C    102\n",
      "Q     46\n",
      "Name: count, dtype: int64\n",
      "[0 1 2 3 4 5 8]\n",
      "Parch\n",
      "0    324\n",
      "1     52\n",
      "2     33\n",
      "3      3\n",
      "4      2\n",
      "9      2\n",
      "6      1\n",
      "5      1\n",
      "Name: count, dtype: int64\n"
     ]
    }
   ],
   "source": [
    "#Lets explore columns Pclass, Parch, SibSp and Embarked to understand what info they contain\n",
    "print(df['Pclass'].unique())\n",
    "print(df['Embarked'].value_counts())\n",
    "print(df['SibSp'].unique())\n",
    "print(df['Parch'].value_counts())"
   ]
  },
  {
   "cell_type": "code",
   "execution_count": 6,
   "id": "23c6a8fe",
   "metadata": {},
   "outputs": [
    {
     "data": {
      "text/html": [
       "<div>\n",
       "<style scoped>\n",
       "    .dataframe tbody tr th:only-of-type {\n",
       "        vertical-align: middle;\n",
       "    }\n",
       "\n",
       "    .dataframe tbody tr th {\n",
       "        vertical-align: top;\n",
       "    }\n",
       "\n",
       "    .dataframe thead th {\n",
       "        text-align: right;\n",
       "    }\n",
       "</style>\n",
       "<table border=\"1\" class=\"dataframe\">\n",
       "  <thead>\n",
       "    <tr style=\"text-align: right;\">\n",
       "      <th></th>\n",
       "      <th>PassengerId</th>\n",
       "      <th>Survived</th>\n",
       "      <th>Pclass</th>\n",
       "      <th>Age</th>\n",
       "      <th>SibSp</th>\n",
       "      <th>Parch</th>\n",
       "      <th>Fare</th>\n",
       "    </tr>\n",
       "  </thead>\n",
       "  <tbody>\n",
       "    <tr>\n",
       "      <th>count</th>\n",
       "      <td>418.000000</td>\n",
       "      <td>418.000000</td>\n",
       "      <td>418.000000</td>\n",
       "      <td>332.000000</td>\n",
       "      <td>418.000000</td>\n",
       "      <td>418.000000</td>\n",
       "      <td>417.000000</td>\n",
       "    </tr>\n",
       "    <tr>\n",
       "      <th>mean</th>\n",
       "      <td>1100.500000</td>\n",
       "      <td>0.363636</td>\n",
       "      <td>2.265550</td>\n",
       "      <td>30.272590</td>\n",
       "      <td>0.447368</td>\n",
       "      <td>0.392344</td>\n",
       "      <td>35.627188</td>\n",
       "    </tr>\n",
       "    <tr>\n",
       "      <th>std</th>\n",
       "      <td>120.810458</td>\n",
       "      <td>0.481622</td>\n",
       "      <td>0.841838</td>\n",
       "      <td>14.181209</td>\n",
       "      <td>0.896760</td>\n",
       "      <td>0.981429</td>\n",
       "      <td>55.907576</td>\n",
       "    </tr>\n",
       "    <tr>\n",
       "      <th>min</th>\n",
       "      <td>892.000000</td>\n",
       "      <td>0.000000</td>\n",
       "      <td>1.000000</td>\n",
       "      <td>0.170000</td>\n",
       "      <td>0.000000</td>\n",
       "      <td>0.000000</td>\n",
       "      <td>0.000000</td>\n",
       "    </tr>\n",
       "    <tr>\n",
       "      <th>25%</th>\n",
       "      <td>996.250000</td>\n",
       "      <td>0.000000</td>\n",
       "      <td>1.000000</td>\n",
       "      <td>21.000000</td>\n",
       "      <td>0.000000</td>\n",
       "      <td>0.000000</td>\n",
       "      <td>7.895800</td>\n",
       "    </tr>\n",
       "    <tr>\n",
       "      <th>50%</th>\n",
       "      <td>1100.500000</td>\n",
       "      <td>0.000000</td>\n",
       "      <td>3.000000</td>\n",
       "      <td>27.000000</td>\n",
       "      <td>0.000000</td>\n",
       "      <td>0.000000</td>\n",
       "      <td>14.454200</td>\n",
       "    </tr>\n",
       "    <tr>\n",
       "      <th>75%</th>\n",
       "      <td>1204.750000</td>\n",
       "      <td>1.000000</td>\n",
       "      <td>3.000000</td>\n",
       "      <td>39.000000</td>\n",
       "      <td>1.000000</td>\n",
       "      <td>0.000000</td>\n",
       "      <td>31.500000</td>\n",
       "    </tr>\n",
       "    <tr>\n",
       "      <th>max</th>\n",
       "      <td>1309.000000</td>\n",
       "      <td>1.000000</td>\n",
       "      <td>3.000000</td>\n",
       "      <td>76.000000</td>\n",
       "      <td>8.000000</td>\n",
       "      <td>9.000000</td>\n",
       "      <td>512.329200</td>\n",
       "    </tr>\n",
       "  </tbody>\n",
       "</table>\n",
       "</div>"
      ],
      "text/plain": [
       "       PassengerId    Survived      Pclass         Age       SibSp  \\\n",
       "count   418.000000  418.000000  418.000000  332.000000  418.000000   \n",
       "mean   1100.500000    0.363636    2.265550   30.272590    0.447368   \n",
       "std     120.810458    0.481622    0.841838   14.181209    0.896760   \n",
       "min     892.000000    0.000000    1.000000    0.170000    0.000000   \n",
       "25%     996.250000    0.000000    1.000000   21.000000    0.000000   \n",
       "50%    1100.500000    0.000000    3.000000   27.000000    0.000000   \n",
       "75%    1204.750000    1.000000    3.000000   39.000000    1.000000   \n",
       "max    1309.000000    1.000000    3.000000   76.000000    8.000000   \n",
       "\n",
       "            Parch        Fare  \n",
       "count  418.000000  417.000000  \n",
       "mean     0.392344   35.627188  \n",
       "std      0.981429   55.907576  \n",
       "min      0.000000    0.000000  \n",
       "25%      0.000000    7.895800  \n",
       "50%      0.000000   14.454200  \n",
       "75%      0.000000   31.500000  \n",
       "max      9.000000  512.329200  "
      ]
     },
     "execution_count": 6,
     "metadata": {},
     "output_type": "execute_result"
    }
   ],
   "source": [
    "# 🔍 Step 4: Univariate Analysis\n",
    "# Numerical Columns\n",
    "df.describe()"
   ]
  },
  {
   "cell_type": "code",
   "execution_count": 7,
   "id": "95693fe4",
   "metadata": {},
   "outputs": [
    {
     "name": "stdout",
     "output_type": "stream",
     "text": [
      "\n",
      "Value counts for 'Survived':\n",
      " Survived\n",
      "0    266\n",
      "1    152\n",
      "Name: count, dtype: int64\n",
      "\n",
      "Value counts for 'Pclass':\n",
      " Pclass\n",
      "3    218\n",
      "1    107\n",
      "2     93\n",
      "Name: count, dtype: int64\n"
     ]
    }
   ],
   "source": [
    "# Categorical Columns\n",
    "print(\"\\nValue counts for 'Survived':\\n\", df['Survived'].value_counts())\n",
    "print(\"\\nValue counts for 'Pclass':\\n\", df['Pclass'].value_counts())"
   ]
  },
  {
   "cell_type": "code",
   "execution_count": 43,
   "id": "6abf980e",
   "metadata": {},
   "outputs": [
    {
     "name": "stdout",
     "output_type": "stream",
     "text": [
      "Survived\n",
      "1    152\n",
      "Name: count, dtype: int64\n",
      "['1']\n"
     ]
    }
   ],
   "source": [
    "print(df[df['Sex'] == 'female']['Survived'].value_counts())\n",
    "print(df[df['Sex'] == 'female']['Survived'].unique())"
   ]
  },
  {
   "cell_type": "code",
   "execution_count": 44,
   "id": "4d336632",
   "metadata": {},
   "outputs": [
    {
     "name": "stdout",
     "output_type": "stream",
     "text": [
      "Survived\n",
      "0    266\n",
      "Name: count, dtype: int64\n",
      "['0']\n"
     ]
    }
   ],
   "source": [
    "print(df[df['Sex'] == 'male']['Survived'].value_counts())\n",
    "print(df[df['Sex'] == 'male']['Survived'].unique())"
   ]
  },
  {
   "cell_type": "code",
   "execution_count": null,
   "id": "8d8bba54",
   "metadata": {},
   "outputs": [
    {
     "name": "stdout",
     "output_type": "stream",
     "text": [
      "Total=  418\n",
      "        Count  Percentage (%)\n",
      "Pclass                       \n",
      "3         218           52.15\n",
      "1         107           25.60\n",
      "2          93           22.25\n"
     ]
    }
   ],
   "source": [
    "#Checking passenger class\n",
    "\n",
    "#Total = \n",
    "print(\"Total= \", df['Pclass'].count())\n",
    "\n",
    "# Value counts\n",
    "value_counts = df['Pclass'].value_counts()\n",
    "\n",
    "# Percentages\n",
    "percentages = df['Pclass'].value_counts(normalize=True) * 100\n",
    "\n",
    "# Combine into one DataFrame\n",
    "summary = pd.DataFrame({\n",
    "    'Count': value_counts,\n",
    "    'Percentage (%)': percentages.round(2)\n",
    "})\n",
    "\n",
    "print(summary)"
   ]
  },
  {
   "cell_type": "code",
   "execution_count": null,
   "id": "308be04c",
   "metadata": {},
   "outputs": [
    {
     "name": "stdout",
     "output_type": "stream",
     "text": [
      "Total=  418\n",
      "          Count  Percentage (%)\n",
      "Survived                       \n",
      "0           266           63.64\n",
      "1           152           36.36\n"
     ]
    }
   ],
   "source": [
    "#Checking survival rate\n",
    "\n",
    "#Total = \n",
    "print(\"Total= \", df['Survived'].count())\n",
    "\n",
    "# Value counts\n",
    "value_counts = df['Survived'].value_counts()\n",
    "\n",
    "# Percentages\n",
    "percentages = df['Survived'].value_counts(normalize=True) * 100\n",
    "\n",
    "# Combine into one DataFrame\n",
    "summary = pd.DataFrame({\n",
    "    'Count': value_counts,\n",
    "    'Percentage (%)': percentages.round(2)\n",
    "})\n",
    "\n",
    "print(summary)\n"
   ]
  },
  {
   "cell_type": "code",
   "execution_count": null,
   "id": "a6ddb745",
   "metadata": {},
   "outputs": [
    {
     "name": "stdout",
     "output_type": "stream",
     "text": [
      "         Count     Percentage (%)           \n",
      "Survived     0   1              0          1\n",
      "Pclass                                      \n",
      "1           57  50      53.271028  46.728972\n",
      "2           63  30      67.741935  32.258065\n",
      "3          146  72      66.972477  33.027523\n"
     ]
    }
   ],
   "source": [
    "#Checking passenger class and survival rate relations\n",
    "\n",
    "# Grouping by Pclass and Survived\n",
    "grouped_data = df.groupby(['Pclass', 'Survived']).size().unstack(fill_value=0)\n",
    "\n",
    "# Getting percentages for each group\n",
    "grouped_percentages = grouped_data.divide(grouped_data.sum(axis=1), axis=0) * 100\n",
    "\n",
    "# Combine count and percentage into a single DataFrame\n",
    "summary = pd.concat([grouped_data, grouped_percentages], axis=1, keys=['Count', 'Percentage (%)'])\n",
    "\n",
    "print(summary)\n"
   ]
  },
  {
   "cell_type": "code",
   "execution_count": 40,
   "id": "7f42bac2",
   "metadata": {},
   "outputs": [
    {
     "name": "stdout",
     "output_type": "stream",
     "text": [
      "         Count      Percentage (%)       \n",
      "Survived     0    1              0      1\n",
      "Sex                                      \n",
      "female       0  152            0.0  100.0\n",
      "male       266    0          100.0    0.0\n"
     ]
    }
   ],
   "source": [
    "#Checking gender and survival rate relations\n",
    "\n",
    "# Grouping by Pclass and Survived\n",
    "grouped_data = df.groupby(['Sex', 'Survived']).size().unstack(fill_value=0)\n",
    "\n",
    "# Getting percentages for each group\n",
    "grouped_percentages = grouped_data.divide(grouped_data.sum(axis=1), axis=0) * 100\n",
    "\n",
    "# Combine count and percentage into a single DataFrame\n",
    "summary = pd.concat([grouped_data, grouped_percentages], axis=1, keys=['Count', 'Percentage (%)'])\n",
    "\n",
    "print(summary)"
   ]
  },
  {
   "cell_type": "code",
   "execution_count": 46,
   "id": "3a86fc70",
   "metadata": {},
   "outputs": [
    {
     "name": "stdout",
     "output_type": "stream",
     "text": [
      "         Count     Percentage (%)           \n",
      "Survived     0   1              0          1\n",
      "Embarked                                    \n",
      "C           62  40      60.784314  39.215686\n",
      "Q           22  24      47.826087  52.173913\n",
      "S          182  88      67.407407  32.592593\n"
     ]
    }
   ],
   "source": [
    "#Checking embarked and survival rate relations\n",
    "\n",
    "# Grouping by Pclass and Survived\n",
    "grouped_data = df.groupby(['Embarked', 'Survived']).size().unstack(fill_value=0)\n",
    "\n",
    "# Getting percentages for each group\n",
    "grouped_percentages = grouped_data.divide(grouped_data.sum(axis=1), axis=0) * 100\n",
    "\n",
    "# Combine count and percentage into a single DataFrame\n",
    "summary = pd.concat([grouped_data, grouped_percentages], axis=1, keys=['Count', 'Percentage (%)'])\n",
    "\n",
    "print(summary)"
   ]
  },
  {
   "cell_type": "code",
   "execution_count": null,
   "id": "0576a002",
   "metadata": {},
   "outputs": [
    {
     "name": "stdout",
     "output_type": "stream",
     "text": [
      "Total Fare Collected: 14856.5376\n"
     ]
    }
   ],
   "source": [
    "#Total fare collected\n",
    "\n",
    "total_fare = df['Fare'].sum()\n",
    "print(\"Total Fare Collected:\", total_fare)"
   ]
  },
  {
   "cell_type": "code",
   "execution_count": 8,
   "id": "6d1ef368",
   "metadata": {},
   "outputs": [
    {
     "data": {
      "text/plain": [
       "Text(0.5, 1.0, 'Survival Distribution')"
      ]
     },
     "execution_count": 8,
     "metadata": {},
     "output_type": "execute_result"
    },
    {
     "data": {
      "image/png": "[encoded data removed]",
      "text/plain": [
       "<Figure size 640x480 with 1 Axes>"
      ]
     },
     "metadata": {},
     "output_type": "display_data"
    }
   ],
   "source": [
    "# 📈 Step 5: Visualization\n",
    "\n",
    "# Survival count\n",
    "sns.countplot(data=df, x='Survived')\n",
    "plt.title(\"Survival Distribution\")"
   ]
  },
  {
   "cell_type": "code",
   "execution_count": 9,
   "id": "17a0a26c",
   "metadata": {},
   "outputs": [
    {
     "data": {
      "text/plain": [
       "Text(0.5, 1.0, 'Survival across Passenger Classes')"
      ]
     },
     "execution_count": 9,
     "metadata": {},
     "output_type": "execute_result"
    },
    {
     "data": {
      "image/png": "[encoded data removed]",
      "text/plain": [
       "<Figure size 640x480 with 1 Axes>"
      ]
     },
     "metadata": {},
     "output_type": "display_data"
    }
   ],
   "source": [
    "# Class vs Survival\n",
    "sns.countplot(data=df, x='Pclass', hue='Survived')\n",
    "plt.title(\"Survival across Passenger Classes\")"
   ]
  },
  {
   "cell_type": "code",
   "execution_count": 32,
   "id": "ee6b7ea8",
   "metadata": {},
   "outputs": [
    {
     "data": {
      "text/plain": [
       "Text(0.5, 1.0, 'Survival across Gender')"
      ]
     },
     "execution_count": 32,
     "metadata": {},
     "output_type": "execute_result"
    },
    {
     "data": {
      "image/png": "[encoded data removed]",
      "text/plain": [
       "<Figure size 640x480 with 1 Axes>"
      ]
     },
     "metadata": {},
     "output_type": "display_data"
    }
   ],
   "source": [
    "# Gender vs Survival\n",
    "sns.countplot(data=df, x='Sex', hue='Survived')\n",
    "plt.title(\"Survival across Gender\")"
   ]
  },
  {
   "cell_type": "code",
   "execution_count": 10,
   "id": "1c463718",
   "metadata": {},
   "outputs": [
    {
     "data": {
      "text/plain": [
       "Text(0.5, 1.0, 'Age Distribution')"
      ]
     },
     "execution_count": 10,
     "metadata": {},
     "output_type": "execute_result"
    },
    {
     "data": {
      "image/png": "[encoded data removed]",
      "text/plain": [
       "<Figure size 640x480 with 1 Axes>"
      ]
     },
     "metadata": {},
     "output_type": "display_data"
    }
   ],
   "source": [
    "# Age Distribution\n",
    "sns.histplot(df['Age'].dropna(), kde=True)\n",
    "plt.title(\"Age Distribution\")"
   ]
  },
  {
   "cell_type": "code",
   "execution_count": 11,
   "id": "57a475c1",
   "metadata": {},
   "outputs": [
    {
     "data": {
      "text/plain": [
       "Text(0.5, 1.0, 'Age vs Survival')"
      ]
     },
     "execution_count": 11,
     "metadata": {},
     "output_type": "execute_result"
    },
    {
     "data": {
      "image/png": "[encoded data removed]",
      "text/plain": [
       "<Figure size 640x480 with 1 Axes>"
      ]
     },
     "metadata": {},
     "output_type": "display_data"
    }
   ],
   "source": [
    "# 🔗 Step 6: Bivariate Analysis\n",
    "\n",
    "# Age vs Survival\n",
    "sns.boxplot(data=df, x='Survived', y='Age')\n",
    "plt.title(\"Age vs Survival\")"
   ]
  },
  {
   "cell_type": "code",
   "execution_count": 12,
   "id": "9b5ccacc",
   "metadata": {},
   "outputs": [
    {
     "data": {
      "text/plain": [
       "Text(0.5, 1.0, 'Fare vs Survival')"
      ]
     },
     "execution_count": 12,
     "metadata": {},
     "output_type": "execute_result"
    },
    {
     "data": {
      "image/png": "[encoded data removed]",
      "text/plain": [
       "<Figure size 640x480 with 1 Axes>"
      ]
     },
     "metadata": {},
     "output_type": "display_data"
    }
   ],
   "source": [
    "# Fare vs Survival\n",
    "sns.histplot(data=df, x='Fare', hue='Survived', kde=True)\n",
    "plt.title(\"Fare vs Survival\")\n"
   ]
  },
  {
   "cell_type": "code",
   "execution_count": 45,
   "id": "182b7a4a",
   "metadata": {},
   "outputs": [
    {
     "data": {
      "text/plain": [
       "Text(0.5, 1.0, 'Fare vs Survival')"
      ]
     },
     "execution_count": 45,
     "metadata": {},
     "output_type": "execute_result"
    },
    {
     "data": {
      "image/png": "[encoded data removed]",
      "text/plain": [
       "<Figure size 640x480 with 1 Axes>"
      ]
     },
     "metadata": {},
     "output_type": "display_data"
    }
   ],
   "source": [
    "# Embark vs Survival\n",
    "sns.histplot(data=df, x='Embarked', hue='Survived', kde=True)\n",
    "plt.title(\"Fare vs Survival\")"
   ]
  },
  {
   "cell_type": "markdown",
   "id": "b57341b0",
   "metadata": {},
   "source": [
    "Observations & Insights -\n",
    "\n",
    "1. Survival Rate - \n",
    "    - About 36% of the passengers survived, while the rest did not.\n",
    "    - Indicates a class imbalanced dataset (can be important during model building)\n",
    "2. Passenger Class vs Survival - \n",
    "    - Passenger in 1st class had better survival rates than other 2 classes\n",
    "    - Implies socioeconomic status influenced survival chances\n",
    "3. Gender vs Survival - \n",
    "    - The dataset contains entries where 100% females survived and males did not.\n",
    "4. Age distribution -\n",
    "    - Most passengers were between 20-30 year olds.\n",
    "5. Missing values -\n",
    "    - Age column has some missing values and need to be handled during preprocessing for models\n",
    "    - Cabin column has too many missing values and may need to be dropped or heavily preprocessed\n",
    "6. Fare -\n",
    "    - Passengers who paid higher fares tended to be in higher classes and had better chances of survival\n",
    "7. Embarked -\n",
    "    - Majority embarked from port 'S', followed by 'C' and 'Q'\n",
    "    - Port 'Q' passengers had highest survival rate among the three. There may be a correlation between embarkment and survival\n",
    "    "
   ]
  }
 ],
 "metadata": {
  "kernelspec": {
   "display_name": "Python 3",
   "language": "python",
   "name": "python3"
  },
  "language_info": {
   "codemirror_mode": {
    "name": "ipython",
    "version": 3
   },
   "file_extension": ".py",
   "mimetype": "text/x-python",
   "name": "python",
   "nbconvert_exporter": "python",
   "pygments_lexer": "ipython3",
   "version": "3.11.4"
  }
 },
 "nbformat": 4,
 "nbformat_minor": 5
}
